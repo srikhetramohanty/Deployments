{
 "cells": [
  {
   "cell_type": "code",
   "execution_count": 4,
   "metadata": {},
   "outputs": [],
   "source": [
    "import pandas as pd\n",
    "import numpy as np\n",
    "import minio as min"
   ]
  },
  {
   "cell_type": "code",
   "execution_count": 7,
   "metadata": {},
   "outputs": [
    {
     "name": "stdout",
     "output_type": "stream",
     "text": [
      "File '/home/ubuntu/srikhetra/Deployments/app.py' uploaded as 'app.py' to bucket 'vcc-project'.\n"
     ]
    }
   ],
   "source": [
    "from minio import Minio\n",
    "from minio.error import S3Error\n",
    "\n",
    "# Create a MinIO client\n",
    "client = Minio(\n",
    "    \"13.126.220.115:9000\",\n",
    "    access_key=\"pLCae6W3QCzzfK5kcLau\",\n",
    "    secret_key=\"A2YMsn6rBX46FvIJyWLo9ytkRYKfaCEF5gekoeqJ\",\n",
    "    secure=False  # Set to False if not using https\n",
    ")\n",
    "\n",
    "def upload_file_to_minio(bucket_name, file_path, object_name):\n",
    "\n",
    "    # Make sure the bucket exists\n",
    "    if not client.bucket_exists(bucket_name):\n",
    "        client.make_bucket(bucket_name)\n",
    "\n",
    "    # Upload the file\n",
    "    try:\n",
    "        client.fput_object(bucket_name, object_name, file_path)\n",
    "        print(f\"File '{file_path}' uploaded as '{object_name}' to bucket '{bucket_name}'.\")\n",
    "    except S3Error as e:\n",
    "        print(\"Error occurred:\", e)\n",
    "\n",
    "# Usage\n",
    "upload_file_to_minio(\"vcc-project\",\n",
    "                     \"/home/ubuntu/srikhetra/Deployments/app.py\",\n",
    "                     \"app.py\")\n"
   ]
  },
  {
   "cell_type": "code",
   "execution_count": 9,
   "metadata": {},
   "outputs": [
    {
     "name": "stdout",
     "output_type": "stream",
     "text": [
      "File 'Aquarium Combined.v2-raw-1024.yolov8.zip' from bucket 'vcc-project' downloaded to 'Aquarium Combined.v2-raw-1024.yolov8.zip'.\n"
     ]
    }
   ],
   "source": [
    "def download_file_from_minio(bucket_name, object_name, file_path):\n",
    "    # Download the file\n",
    "    try:\n",
    "        client.fget_object(bucket_name, object_name, file_path)\n",
    "        print(f\"File '{object_name}' from bucket '{bucket_name}' downloaded to '{file_path}'.\")\n",
    "    except S3Error as e:\n",
    "        print(\"Error occurred:\", e)\n",
    "\n",
    "# Usage\n",
    "download_file_from_minio(\"vcc-project\",\n",
    "                         \"Aquarium Combined.v2-raw-1024.yolov8.zip\",\n",
    "                         \"Aquarium Combined.v2-raw-1024.yolov8.zip\")"
   ]
  },
  {
   "cell_type": "code",
   "execution_count": 10,
   "metadata": {},
   "outputs": [
    {
     "ename": "ModuleNotFoundError",
     "evalue": "No module named 'ultralytics'",
     "output_type": "error",
     "traceback": [
      "\u001b[0;31m---------------------------------------------------------------------------\u001b[0m",
      "\u001b[0;31mModuleNotFoundError\u001b[0m                       Traceback (most recent call last)",
      "\u001b[1;32m/home/ubuntu/srikhetra/Deployments/Experiments/test.ipynb Cell 4\u001b[0m line \u001b[0;36m1\n\u001b[0;32m----> <a href='vscode-notebook-cell://ssh-remote%2B13.126.220.115/home/ubuntu/srikhetra/Deployments/Experiments/test.ipynb#W3sdnNjb2RlLXJlbW90ZQ%3D%3D?line=0'>1</a>\u001b[0m \u001b[39mfrom\u001b[39;00m \u001b[39multralytics\u001b[39;00m \u001b[39mimport\u001b[39;00m YOLO\n\u001b[1;32m      <a href='vscode-notebook-cell://ssh-remote%2B13.126.220.115/home/ubuntu/srikhetra/Deployments/Experiments/test.ipynb#W3sdnNjb2RlLXJlbW90ZQ%3D%3D?line=2'>3</a>\u001b[0m \u001b[39m# Load a model\u001b[39;00m\n\u001b[1;32m      <a href='vscode-notebook-cell://ssh-remote%2B13.126.220.115/home/ubuntu/srikhetra/Deployments/Experiments/test.ipynb#W3sdnNjb2RlLXJlbW90ZQ%3D%3D?line=3'>4</a>\u001b[0m model \u001b[39m=\u001b[39m YOLO(\u001b[39m'\u001b[39m\u001b[39myolov8n.yaml\u001b[39m\u001b[39m'\u001b[39m)  \u001b[39m# build a new model from YAML\u001b[39;00m\n",
      "\u001b[0;31mModuleNotFoundError\u001b[0m: No module named 'ultralytics'"
     ]
    }
   ],
   "source": [
    "from ultralytics import YOLO\n",
    "\n",
    "# Load a model\n",
    "model = YOLO('yolov8n.yaml')  # build a new model from YAML\n",
    "model = YOLO('yolov8n.pt')  # load a pretrained model (recommended for training)\n",
    "model = YOLO('yolov8n.yaml').load('yolov8n.pt')  # build from YAML and transfer weights\n",
    "\n",
    "# Train the model\n",
    "results = model.train(data='/home/ubuntu/srikhetra/Deployments/Experiments/Aquarium Combined.v2-raw-1024.yolov8.zip',\n",
    "                      epochs=2,\n",
    "                      imgsz=640)\n"
   ]
  },
  {
   "cell_type": "code",
   "execution_count": null,
   "metadata": {},
   "outputs": [],
   "source": []
  },
  {
   "cell_type": "code",
   "execution_count": null,
   "metadata": {},
   "outputs": [],
   "source": []
  },
  {
   "cell_type": "code",
   "execution_count": null,
   "metadata": {},
   "outputs": [],
   "source": []
  },
  {
   "cell_type": "code",
   "execution_count": null,
   "metadata": {},
   "outputs": [],
   "source": []
  },
  {
   "cell_type": "code",
   "execution_count": null,
   "metadata": {},
   "outputs": [],
   "source": []
  },
  {
   "cell_type": "code",
   "execution_count": null,
   "metadata": {},
   "outputs": [],
   "source": []
  },
  {
   "cell_type": "code",
   "execution_count": null,
   "metadata": {},
   "outputs": [],
   "source": []
  },
  {
   "cell_type": "code",
   "execution_count": null,
   "metadata": {},
   "outputs": [],
   "source": []
  }
 ],
 "metadata": {
  "kernelspec": {
   "display_name": "project_v1_env",
   "language": "python",
   "name": "project_v1_env"
  },
  "language_info": {
   "codemirror_mode": {
    "name": "ipython",
    "version": 3
   },
   "file_extension": ".py",
   "mimetype": "text/x-python",
   "name": "python",
   "nbconvert_exporter": "python",
   "pygments_lexer": "ipython3",
   "version": "3.8.0"
  }
 },
 "nbformat": 4,
 "nbformat_minor": 2
}
